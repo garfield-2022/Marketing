{
 "cells": [
  {
   "cell_type": "markdown",
   "metadata": {
    "_cell_guid": "b1076dfc-b9ad-4769-8c92-a6c4dae69d19",
    "_uuid": "8f2839f25d086af736a60e9eeb907d3b93b6e0e5"
   },
   "source": [
    "Used Car Price Prediction Dataset https://www.kaggle.com/datasets/taeefnajib/used-car-price-prediction-dataset ."
   ]
  },
  {
   "cell_type": "markdown",
   "metadata": {},
   "source": [
    "This notebook builds three simple models: xgb, lgbm and cat. Hyperparameters are fine-tuned for each of them. Optimized blending weights are found through Optuna tuning. A cv rmse score of 62058 is reached on original dataset."
   ]
  },
  {
   "cell_type": "code",
   "execution_count": null,
   "metadata": {
    "execution": {
     "iopub.execute_input": "2024-09-30T00:47:28.873816Z",
     "iopub.status.busy": "2024-09-30T00:47:28.873119Z",
     "iopub.status.idle": "2024-09-30T00:47:36.106146Z",
     "shell.execute_reply": "2024-09-30T00:47:36.105369Z",
     "shell.execute_reply.started": "2024-09-30T00:47:28.873775Z"
    }
   },
   "outputs": [],
   "source": [
    "import pandas as pd\n",
    "import numpy as np\n",
    "import seaborn as sns\n",
    "sns.set_theme(style=\"ticks\", palette=\"pastel\")\n",
    "import matplotlib.pyplot as plt\n",
    "\n",
    "import re\n",
    "import sklearn\n",
    "from sklearn import preprocessing\n",
    "from scipy.stats import chi2_contingency\n",
    "from sklearn.preprocessing import StandardScaler, RobustScaler\n",
    "from numpy import percentile\n",
    "from sklearn.decomposition import PCA\n",
    "\n",
    "from sklearn.linear_model import HuberRegressor\n",
    "from xgboost import XGBRegressor\n",
    "import xgboost as xgb\n",
    "from lightgbm import LGBMRegressor\n",
    "import lightgbm as lgb\n",
    "from catboost import CatBoostRegressor, Pool\n",
    "\n",
    "from sklearn.model_selection import KFold\n",
    "from sklearn.base import clone\n",
    "from sklearn.metrics import mean_squared_error\n",
    "import gc\n",
    "import warnings\n",
    "warnings.filterwarnings(\"ignore\")\n",
    "\n",
    "import optuna\n",
    "from optuna.visualization import plot_param_importances\n",
    "from optuna.samplers import RandomSampler, TPESampler, CmaEsSampler\n",
    "from optuna.pruners import HyperbandPruner\n",
    "from functools import partial"
   ]
  },
  {
   "cell_type": "code",
   "execution_count": null,
   "metadata": {
    "execution": {
     "iopub.execute_input": "2024-09-30T00:47:36.108465Z",
     "iopub.status.busy": "2024-09-30T00:47:36.107737Z",
     "iopub.status.idle": "2024-09-30T00:47:48.248961Z",
     "shell.execute_reply": "2024-09-30T00:47:48.247842Z",
     "shell.execute_reply.started": "2024-09-30T00:47:36.108428Z"
    }
   },
   "outputs": [],
   "source": [
    "pip install cmaes"
   ]
  },
  {
   "cell_type": "code",
   "execution_count": null,
   "metadata": {
    "execution": {
     "iopub.execute_input": "2024-09-30T00:47:48.250778Z",
     "iopub.status.busy": "2024-09-30T00:47:48.250415Z",
     "iopub.status.idle": "2024-09-30T00:47:48.255400Z",
     "shell.execute_reply": "2024-09-30T00:47:48.254398Z",
     "shell.execute_reply.started": "2024-09-30T00:47:48.250741Z"
    }
   },
   "outputs": [],
   "source": [
    "random_seed = 0\n",
    "n_fold = 5"
   ]
  },
  {
   "cell_type": "markdown",
   "metadata": {},
   "source": [
    "# 1. Import and Glance at the Data."
   ]
  },
  {
   "cell_type": "code",
   "execution_count": null,
   "metadata": {
    "execution": {
     "iopub.execute_input": "2024-09-30T00:47:48.256839Z",
     "iopub.status.busy": "2024-09-30T00:47:48.256584Z",
     "iopub.status.idle": "2024-09-30T00:47:48.309156Z",
     "shell.execute_reply": "2024-09-30T00:47:48.308458Z",
     "shell.execute_reply.started": "2024-09-30T00:47:48.256810Z"
    }
   },
   "outputs": [],
   "source": [
    "original = pd.read_csv(\"/kaggle/input/used-car-price-prediction-dataset/used_cars.csv\")"
   ]
  },
  {
   "cell_type": "markdown",
   "metadata": {},
   "source": [
    "The original dataset have 4009 samples. Only \"model_year\" column is numerical. All the others are categorical. The columns \"fuel_type\", \"accident\" and \"clean_title\" have null values.\n",
    "\n",
    ".info(), .describe(), .isnull().sum() and .unique() are frequently used throughout the notebook to check intermediate results."
   ]
  },
  {
   "cell_type": "markdown",
   "metadata": {},
   "source": [
    "# 2. Feature Engineering."
   ]
  },
  {
   "cell_type": "markdown",
   "metadata": {},
   "source": [
    "Change formats of both milage and price columns in the original datasets. New features: car age, horsepower, engine_displacement, no_of_cylinder, transmission_speed and transmission_type. Drop engine, transmission and model_year columns."
   ]
  },
  {
   "cell_type": "code",
   "execution_count": null,
   "metadata": {
    "execution": {
     "iopub.execute_input": "2024-09-30T00:47:48.312301Z",
     "iopub.status.busy": "2024-09-30T00:47:48.312024Z",
     "iopub.status.idle": "2024-09-30T00:47:48.333743Z",
     "shell.execute_reply": "2024-09-30T00:47:48.332841Z",
     "shell.execute_reply.started": "2024-09-30T00:47:48.312270Z"
    }
   },
   "outputs": [],
   "source": [
    "original['milage'] = original['milage'].str.replace(',', '').str.replace(' mi.', '').astype(float)\n",
    "original['price'] = original['price'].str.replace(',', '').str.replace('$', '').astype(float)"
   ]
  },
  {
   "cell_type": "code",
   "execution_count": null,
   "metadata": {
    "execution": {
     "iopub.execute_input": "2024-09-30T00:47:48.335012Z",
     "iopub.status.busy": "2024-09-30T00:47:48.334765Z",
     "iopub.status.idle": "2024-09-30T00:47:48.346177Z",
     "shell.execute_reply": "2024-09-30T00:47:48.345473Z",
     "shell.execute_reply.started": "2024-09-30T00:47:48.334984Z"
    }
   },
   "outputs": [],
   "source": [
    "def engine_feat_extract(data):\n",
    "    df=data.copy()\n",
    "    \n",
    "    df['horsepower'] = df['engine'].str.extract(r'(\\d+\\.\\d+)HP')\n",
    "    \n",
    "    df['engine'] = df['engine'].apply(lambda x: x.replace(' Litre', 'L'))\n",
    "    df['engine'] = df['engine'].apply(lambda x: x.replace(' Liter', 'L'))\n",
    "    df['engine'] = df['engine'].apply(lambda x: x.replace(' L', 'L'))\n",
    "    df['engine_displacement'] = df['engine'].str.extract(r'(\\d+\\.\\d+)L')\n",
    "    \n",
    "    df['engine'] = df['engine'].apply(lambda x: x.replace('V-', 'V'))\n",
    "    df['no_of_cylinder'] = df['engine'].str.extract(r'( \\d+ | V\\d+ | I\\d+ | W\\d+ | H\\d+ |I\\d+ |V\\d+ |V\\d+|I\\d+)')\n",
    "    df['no_of_cylinder'] = df['no_of_cylinder'].str.strip()\n",
    "    df['no_of_cylinder'] = df['no_of_cylinder'].str.replace('V','').str.replace('I','').str.replace('H','').str.replace('W','')\n",
    "    \n",
    "    df.drop('engine', axis=1, inplace=True)\n",
    "    \n",
    "    return df"
   ]
  },
  {
   "cell_type": "code",
   "execution_count": null,
   "metadata": {
    "execution": {
     "iopub.execute_input": "2024-09-30T00:47:48.348241Z",
     "iopub.status.busy": "2024-09-30T00:47:48.347463Z",
     "iopub.status.idle": "2024-09-30T00:47:48.362538Z",
     "shell.execute_reply": "2024-09-30T00:47:48.361555Z",
     "shell.execute_reply.started": "2024-09-30T00:47:48.348199Z"
    }
   },
   "outputs": [],
   "source": [
    "def transmission_feat_extract(data):\n",
    "    df=data.copy()\n",
    "    \n",
    "    df['transmission'] = df['transmission'].str.replace('Automatic','AT').str.replace('A/T','AT').str.replace('At','AT')\n",
    "    df['transmission'] = df['transmission'].str.replace('M/T','MT').str.replace('Mt','MT').str.replace('Manual', 'MT')\n",
    "    df['transmission'] = df['transmission'].str.replace('Auto', 'AT')\n",
    "    df['transmission'] = df['transmission'].str.replace('-Spd', '-Speed').str.replace('-SPEED', '-Speed')\n",
    "    df['transmission'] = df['transmission'].str.replace('Single-Speed', '1-Speed').str.replace(' Speed', '-Speed')\n",
    "    \n",
    "    df['transmission_speed'] = df['transmission'].str.extract(r'(\\d+)-Speed')\n",
    "    df['transmission_speed'] = df['transmission_speed'].str.strip()\n",
    "    \n",
    "    df['transmission_type'] = df['transmission']\n",
    "    df.loc[df.transmission.str.contains('AT/MT', na=False, case=False), 'transmission_type'] = 'AT/MT'\n",
    "    df.loc[df.transmission.str.contains('AT', na=False, case=False), 'transmission_type'] = 'AT'\n",
    "    df.loc[df.transmission.str.contains('MT', na=False, case=False), 'transmission_type'] = 'MT'\n",
    "    df['transmission_type'] = df['transmission_type'].str.replace('1-Speed Fixed Gear', 'Fixed Gear')\n",
    "    df.loc[df.transmission_type.str.contains('6-Speed', na=False, case=False), 'transmission_type'] = np.nan\n",
    "    df.loc[df.transmission_type.str.contains('7-Speed', na=False, case=False), 'transmission_type'] = np.nan\n",
    "    \n",
    "    #df['transmission_type'] = df['transmission'].str.replace(r'([0-9]+-Speed)', '', regex=True)\n",
    "    \n",
    "    df.drop('transmission', axis=1, inplace=True)\n",
    "\n",
    "    return df"
   ]
  },
  {
   "cell_type": "code",
   "execution_count": null,
   "metadata": {
    "execution": {
     "iopub.execute_input": "2024-09-30T00:47:48.363918Z",
     "iopub.status.busy": "2024-09-30T00:47:48.363637Z",
     "iopub.status.idle": "2024-09-30T00:47:48.378528Z",
     "shell.execute_reply": "2024-09-30T00:47:48.377577Z",
     "shell.execute_reply.started": "2024-09-30T00:47:48.363881Z"
    }
   },
   "outputs": [],
   "source": [
    "def feature_engineering(data):\n",
    "    df=data.copy()\n",
    "    \n",
    "    df = engine_feat_extract(df)\n",
    "    df = transmission_feat_extract(df)\n",
    "    \n",
    "    df['age'] = 2025 - df['model_year']\n",
    "    df.drop(['model_year'], axis=1, inplace=True)\n",
    "    \n",
    "    df['milage_per_year'] = df['milage'] / df['age']\n",
    "    \n",
    "    df['brand'] = df['brand'].str.lower()\n",
    "    df['model'] = df['model'].str.lower()\n",
    "    df['ext_col'] = df['ext_col'].str.lower()\n",
    "    df['int_col'] = df['int_col'].str.lower()\n",
    "    df['transmission_type'] = df['transmission_type'].str.lower()\n",
    "    \n",
    "    return df"
   ]
  },
  {
   "cell_type": "code",
   "execution_count": null,
   "metadata": {
    "execution": {
     "iopub.execute_input": "2024-09-30T00:47:48.380417Z",
     "iopub.status.busy": "2024-09-30T00:47:48.379758Z",
     "iopub.status.idle": "2024-09-30T00:47:48.505406Z",
     "shell.execute_reply": "2024-09-30T00:47:48.504515Z",
     "shell.execute_reply.started": "2024-09-30T00:47:48.380375Z"
    }
   },
   "outputs": [],
   "source": [
    "original = feature_engineering(original)"
   ]
  },
  {
   "cell_type": "markdown",
   "metadata": {},
   "source": [
    "Now the dataset has 15 features."
   ]
  },
  {
   "cell_type": "markdown",
   "metadata": {},
   "source": [
    "# 3. Fill in Missing Values."
   ]
  },
  {
   "cell_type": "markdown",
   "metadata": {},
   "source": [
    "Need to deal with both numerical('horsepower', 'engine_displacement', 'no_of_cylinder' and 'transmission_speed') and categorical('fuel_type', 'accident', 'clean_title' and 'transmission_type') missing values.\n",
    "\n",
    "OrdinalEncoder() with encoded_missing_value set to -1 will turn missing values to -1. Compared to SimpleImputer and KNNImputer, I think OrdinalEncoder() makes sense for this dataset. Turn other categorical variables into numbers."
   ]
  },
  {
   "cell_type": "code",
   "execution_count": null,
   "metadata": {
    "execution": {
     "iopub.execute_input": "2024-09-30T00:47:48.506796Z",
     "iopub.status.busy": "2024-09-30T00:47:48.506520Z",
     "iopub.status.idle": "2024-09-30T00:47:48.514139Z",
     "shell.execute_reply": "2024-09-30T00:47:48.513126Z",
     "shell.execute_reply.started": "2024-09-30T00:47:48.506765Z"
    }
   },
   "outputs": [],
   "source": [
    "def fill_missing(data):\n",
    "    df = data.copy()\n",
    "    \n",
    "    for col in ['horsepower', 'engine_displacement', 'no_of_cylinder', 'transmission_speed']:\n",
    "        df[[col]] = df[[col]].fillna(df[col].mode()[0])\n",
    "        df[[col]] = df[[col]].astype(float)\n",
    "                \n",
    "    for col in ['fuel_type','accident','clean_title','transmission_type']:\n",
    "        enc = preprocessing.OrdinalEncoder(encoded_missing_value=-1)\n",
    "        df[[col]] = enc.fit_transform(df[[col]])    \n",
    "        \n",
    "    #df['fuel_type'] = df['fuel_type'].fillna('none')\n",
    "    #df['accident'] = df['accident'].fillna('empty')\n",
    "    #df['clean_title'] = df['clean_title'].fillna('empty')    \n",
    "        \n",
    "    for col in ['brand','model','ext_col','int_col']:\n",
    "        enc = preprocessing.OrdinalEncoder()\n",
    "        df[[col]] = enc.fit_transform(df[[col]])            \n",
    "        \n",
    "    return df    "
   ]
  },
  {
   "cell_type": "code",
   "execution_count": null,
   "metadata": {
    "execution": {
     "iopub.execute_input": "2024-09-30T00:47:48.515741Z",
     "iopub.status.busy": "2024-09-30T00:47:48.515391Z",
     "iopub.status.idle": "2024-09-30T00:47:48.571874Z",
     "shell.execute_reply": "2024-09-30T00:47:48.571154Z",
     "shell.execute_reply.started": "2024-09-30T00:47:48.515702Z"
    }
   },
   "outputs": [],
   "source": [
    "original = fill_missing(original)"
   ]
  },
  {
   "cell_type": "markdown",
   "metadata": {},
   "source": [
    "# 4. Build Models."
   ]
  },
  {
   "cell_type": "code",
   "execution_count": null,
   "metadata": {
    "execution": {
     "iopub.execute_input": "2024-09-30T00:47:48.573047Z",
     "iopub.status.busy": "2024-09-30T00:47:48.572782Z",
     "iopub.status.idle": "2024-09-30T00:47:48.578792Z",
     "shell.execute_reply": "2024-09-30T00:47:48.577878Z",
     "shell.execute_reply.started": "2024-09-30T00:47:48.573017Z"
    }
   },
   "outputs": [],
   "source": [
    "X_original = original.drop(['price'], axis=1)\n",
    "y_original = original['price']"
   ]
  },
  {
   "cell_type": "code",
   "execution_count": null,
   "metadata": {
    "execution": {
     "iopub.execute_input": "2024-09-30T00:47:48.580291Z",
     "iopub.status.busy": "2024-09-30T00:47:48.579958Z",
     "iopub.status.idle": "2024-09-30T00:47:48.597410Z",
     "shell.execute_reply": "2024-09-30T00:47:48.596450Z",
     "shell.execute_reply.started": "2024-09-30T00:47:48.580260Z"
    }
   },
   "outputs": [],
   "source": [
    "scaler = StandardScaler()\n",
    "scaler.fit(X_original)"
   ]
  },
  {
   "cell_type": "markdown",
   "metadata": {},
   "source": [
    "Three models are built. Hyperparameters are tuned by Optuna for each of them."
   ]
  },
  {
   "cell_type": "markdown",
   "metadata": {},
   "source": [
    "* 4.1 XGB"
   ]
  },
  {
   "cell_type": "code",
   "execution_count": null,
   "metadata": {
    "execution": {
     "iopub.execute_input": "2024-09-30T00:47:48.601424Z",
     "iopub.status.busy": "2024-09-30T00:47:48.601085Z",
     "iopub.status.idle": "2024-09-30T00:47:48.612169Z",
     "shell.execute_reply": "2024-09-30T00:47:48.611210Z",
     "shell.execute_reply.started": "2024-09-30T00:47:48.601390Z"
    }
   },
   "outputs": [],
   "source": [
    "def objective(trial):\n",
    "    params = {\n",
    "        'eta': 0.02,\n",
    "        'n_estimators': 10000,\n",
    "        'alpha': trial.suggest_float('alpha', 0., 1.0),\n",
    "        'lambda': trial.suggest_float('lambda', 1., 100.0),\n",
    "        'subsample': trial.suggest_float('subsample', 0., 1.0), #column-wise sampling \n",
    "        'colsample_bytree': trial.suggest_float('colsample_bytree', 0., 1.0), #row-wise sampling\n",
    "        'max_depth': trial.suggest_int('max_depth', 3, 20),\n",
    "        'min_child_weight': trial.suggest_float(\"min_child_weight\", 1., 50.),\n",
    "        'gamma': trial.suggest_float('gamma', 0., 1.0),\n",
    "        #'max_bin': trial.suggest_int('max_bin', 20, 400), # Gpu does not accept customized max_bin.\n",
    "        'tree_method': 'gpu_hist',\n",
    "        'eval_metric': 'rmse',\n",
    "        'random_state': random_seed,\n",
    "        'objective': 'reg:squarederror',\n",
    "        'booster': 'gbtree',\n",
    "        'grow_policy': 'lossguide',\n",
    "        'verbosity': 1,\n",
    "        'device': 'gpu',\n",
    "    }\n",
    "    \n",
    "    cv = KFold(n_fold, shuffle=True, random_state=random_seed)\n",
    "    cv_splits = cv.split(X_original, y_original)\n",
    "    \n",
    "    val_preds = np.zeros(len(X_original))\n",
    "\n",
    "    model = XGBRegressor(**params)\n",
    "    \n",
    "    for train_idx, val_idx in cv_splits:\n",
    "        X_train_fold = X_original.iloc[train_idx]\n",
    "        y_train_fold = y_original.iloc[train_idx]\n",
    "        X_val_fold, y_val_fold = X_original.iloc[val_idx], y_original.iloc[val_idx]\n",
    "        \n",
    "        X_train_fold = scaler.transform(X_train_fold)\n",
    "        X_val_fold = scaler.transform(X_val_fold)\n",
    "    \n",
    "        model.fit(X_train_fold, y_train_fold, eval_set=[(X_val_fold, y_val_fold)], early_stopping_rounds=100, verbose=False)\n",
    "                \n",
    "        val_preds[val_idx] = model.predict(X_val_fold)\n",
    "        gc.collect()\n",
    "        \n",
    "        rmse_full = mean_squared_error(y_original, val_preds, squared=False)\n",
    "    \n",
    "    return rmse_full"
   ]
  },
  {
   "cell_type": "code",
   "execution_count": null,
   "metadata": {
    "execution": {
     "iopub.execute_input": "2024-09-30T00:47:48.613572Z",
     "iopub.status.busy": "2024-09-30T00:47:48.613234Z",
     "iopub.status.idle": "2024-09-30T00:47:48.628949Z",
     "shell.execute_reply": "2024-09-30T00:47:48.628161Z",
     "shell.execute_reply.started": "2024-09-30T00:47:48.613539Z"
    }
   },
   "outputs": [],
   "source": [
    "study_name = \"xgb\"\n",
    "sampler = TPESampler(multivariate=True, group=True, seed=random_seed)\n",
    "\n",
    "optimize = False\n",
    "if optimize:\n",
    "    study = optuna.create_study(study_name=study_name, sampler=sampler, direction=\"minimize\", load_if_exists=True)\n",
    "    study.optimize(objective, timeout=1800)\n",
    "    \n",
    "    print(f\"best optimized rmse: {study.best_value:0.5f}\") #72612\n",
    "    print(f\"best hyperparameters: {study.best_params}\") \n",
    "    xgb_params = study.best_params\n",
    "else:\n",
    "    xgb_params = {\n",
    "        'eta': 0.02,\n",
    "        'n_estimators': 10000,\n",
    "        'alpha': 0.4044903388091685, \n",
    "        'lambda': 51.28639166297703, \n",
    "        'subsample': 0.9595530034937119, \n",
    "        'colsample_bytree': 0.5938659459702476, \n",
    "        'max_depth': 13, \n",
    "        'min_child_weight': 4.545108004764614, \n",
    "        'gamma': 0.2646495961144566,\n",
    "        'tree_method': 'gpu_hist',\n",
    "        'eval_metric': 'rmse',\n",
    "        'random_state': random_seed,\n",
    "        'objective': 'reg:squarederror',\n",
    "        'booster': 'gbtree',\n",
    "        'grow_policy': 'lossguide',\n",
    "        'verbosity': 1,\n",
    "        'device': 'gpu',\n",
    "    }"
   ]
  },
  {
   "cell_type": "markdown",
   "metadata": {},
   "source": [
    "* 4.2 LGBM"
   ]
  },
  {
   "cell_type": "code",
   "execution_count": null,
   "metadata": {
    "execution": {
     "iopub.execute_input": "2024-09-30T00:47:48.630241Z",
     "iopub.status.busy": "2024-09-30T00:47:48.629967Z",
     "iopub.status.idle": "2024-09-30T00:47:48.644815Z",
     "shell.execute_reply": "2024-09-30T00:47:48.643886Z",
     "shell.execute_reply.started": "2024-09-30T00:47:48.630198Z"
    }
   },
   "outputs": [],
   "source": [
    "def objective(trial):\n",
    "    params = {\n",
    "        'learning_rate': 0.01,\n",
    "        'n_estimators': 2000,\n",
    "        'num_leaves': trial.suggest_int('num_leaves', 2, 256),\n",
    "        'min_child_samples': trial.suggest_int('min_child_samples', 20, 500),\n",
    "        'max_depth': trial.suggest_int('max_depth', 2, 13),\n",
    "        'reg_alpha': trial.suggest_float('reg_alpha', 1e-9, 1.0, log=True),\n",
    "        'reg_lambda': trial.suggest_float('reg_lambda', 1e-9, 1.0, log=True),\n",
    "        'colsample_bytree': trial.suggest_float('colsample_bytree', 0.5, 1.0), #row-wise sampling\n",
    "        'subsample': trial.suggest_float('subsample', 0.5, 1.0), #column-wise sampling   \n",
    "        'min_gain_to_split': trial.suggest_float('min_gain_to_split', 0.1, 1.0),\n",
    "        'bin_construct_sample_cnt': trial.suggest_int('bin_construct_sample_cnt', 20000, 300000),\n",
    "        #'max_bin': trial.suggest_int('max_bin', 20, 400), # Gpu does not accept customized max_bin.\n",
    "        'random_state': random_seed,\n",
    "        'verbosity': -1,\n",
    "        'objective': 'regression',\n",
    "        'boosting_type': 'gbdt',\n",
    "        'device': 'gpu',\n",
    "        'eval_metric': 'l2',\n",
    "    }\n",
    "    \n",
    "    cv = KFold(n_fold, shuffle=True, random_state=random_seed)\n",
    "    cv_splits = cv.split(X_original, y_original)\n",
    "    \n",
    "    val_preds = np.zeros(len(X_original))\n",
    "    \n",
    "    model = LGBMRegressor(**params)\n",
    "    \n",
    "    for train_idx, val_idx in cv_splits:\n",
    "        X_train_fold = X_original.iloc[train_idx]\n",
    "        y_train_fold = y_original.iloc[train_idx]\n",
    "        X_val_fold, y_val_fold = X_original.iloc[val_idx], y_original.iloc[val_idx]\n",
    "        \n",
    "        X_train_fold = scaler.transform(X_train_fold)\n",
    "        X_val_fold = scaler.transform(X_val_fold)\n",
    "    \n",
    "        model.fit(X_train_fold, y_train_fold, eval_set=[(X_val_fold, y_val_fold)], eval_metric='l2', callbacks=[lgb.early_stopping(stopping_rounds=100)])\n",
    "                \n",
    "        val_preds[val_idx] = model.predict(X_val_fold)\n",
    "        gc.collect()\n",
    "        \n",
    "        rmse_full = mean_squared_error(y_original, val_preds, squared=False)\n",
    "    \n",
    "    return rmse_full"
   ]
  },
  {
   "cell_type": "code",
   "execution_count": null,
   "metadata": {
    "execution": {
     "iopub.execute_input": "2024-09-30T00:47:48.646010Z",
     "iopub.status.busy": "2024-09-30T00:47:48.645731Z",
     "iopub.status.idle": "2024-09-30T00:47:48.661661Z",
     "shell.execute_reply": "2024-09-30T00:47:48.660836Z",
     "shell.execute_reply.started": "2024-09-30T00:47:48.645980Z"
    }
   },
   "outputs": [],
   "source": [
    "study_name = \"lgbm\"\n",
    "sampler = TPESampler(multivariate=True, group=True, seed=random_seed)\n",
    "\n",
    "optimize = False\n",
    "if optimize:\n",
    "    study = optuna.create_study(study_name=study_name, sampler=sampler, direction=\"minimize\", load_if_exists=True)\n",
    "    study.optimize(objective, timeout=1800)\n",
    "    \n",
    "    print(f\"best optimized rmse: {study.best_value:0.5f}\") \n",
    "    print(f\"best hyperparameters: {study.best_params}\") \n",
    "    lgbm_params = study.best_params\n",
    "else:\n",
    "    lgbm_params = {\n",
    "        'learning_rate': 0.01,\n",
    "        'n_estimators': 2000,\n",
    "        'num_leaves': 124, \n",
    "        'min_child_samples': 22, \n",
    "        'max_depth': 12, \n",
    "        'reg_alpha': 8.09210204580889e-09, \n",
    "        'reg_lambda': 2.757213845367804e-06, \n",
    "        'colsample_bytree': 0.8235143062544691, \n",
    "        'subsample': 0.7315131225465594, \n",
    "        'min_gain_to_split': 0.43989457605442905, \n",
    "        'bin_construct_sample_cnt': 226499,\n",
    "        'random_state': random_seed,\n",
    "        'verbosity': -1,\n",
    "        'objective': 'regression',\n",
    "        'boosting_type': 'gbdt',\n",
    "        'device': 'gpu',\n",
    "        'eval_metric': 'l2',\n",
    "    }"
   ]
  },
  {
   "cell_type": "markdown",
   "metadata": {},
   "source": [
    "* 4.3 CATB"
   ]
  },
  {
   "cell_type": "code",
   "execution_count": null,
   "metadata": {
    "execution": {
     "iopub.execute_input": "2024-09-30T00:47:48.663225Z",
     "iopub.status.busy": "2024-09-30T00:47:48.662881Z",
     "iopub.status.idle": "2024-09-30T00:47:48.675979Z",
     "shell.execute_reply": "2024-09-30T00:47:48.675158Z",
     "shell.execute_reply.started": "2024-09-30T00:47:48.663183Z"
    }
   },
   "outputs": [],
   "source": [
    "def objective(trial):\n",
    "    params = {\n",
    "        'learning_rate': 0.05,\n",
    "        'iterations': 2000,\n",
    "        'depth': trial.suggest_int('depth', 4, 16),\n",
    "        \"l2_leaf_reg\": trial.suggest_float(\"l2_leaf_reg\", 1, 100),\n",
    "        #\"rsm\": trial.suggest_float(\"rsm\", 0.5, 1.0),\n",
    "        'random_strength': trial.suggest_float(\"random_strength\", 0., 10.),\n",
    "        'border_count': trial.suggest_int('border_count', 20, 500),\n",
    "        'bagging_temperature': trial.suggest_float(\"bagging_temperature\", 0., 1.),\n",
    "        'random_state': random_seed,\n",
    "        'grow_policy': 'SymmetricTree',\n",
    "        'loss_function': 'RMSE',\n",
    "        'eval_metric': 'RMSE',\n",
    "        'task_type': 'GPU',\n",
    "        'logging_level': 'Silent',\n",
    "    }\n",
    "    \n",
    "    cv = KFold(n_fold, shuffle=True, random_state=random_seed)\n",
    "    cv_splits = cv.split(X_original, y_original)\n",
    "    \n",
    "    val_preds = np.zeros(len(X_original))\n",
    "    \n",
    "    model = CatBoostRegressor(**params)\n",
    "    \n",
    "    for train_idx, val_idx in cv_splits:\n",
    "        X_train_fold = X_original.iloc[train_idx]\n",
    "        y_train_fold = y_original.iloc[train_idx]\n",
    "        X_val_fold, y_val_fold = X_original.iloc[val_idx], y_original.iloc[val_idx]\n",
    "        \n",
    "        X_train_fold = scaler.transform(X_train_fold)\n",
    "        X_val_fold = scaler.transform(X_val_fold)\n",
    "    \n",
    "        model.fit(X_train_fold, y_train_fold, eval_set=[(X_val_fold, y_val_fold)], early_stopping_rounds=100, verbose=False)\n",
    "                \n",
    "        val_preds[val_idx] = model.predict(X_val_fold)\n",
    "        gc.collect()\n",
    "        \n",
    "        rmse_full = mean_squared_error(y_original, val_preds, squared=False)\n",
    "    \n",
    "    return rmse_full"
   ]
  },
  {
   "cell_type": "code",
   "execution_count": null,
   "metadata": {
    "execution": {
     "iopub.execute_input": "2024-09-30T00:47:48.677920Z",
     "iopub.status.busy": "2024-09-30T00:47:48.677098Z",
     "iopub.status.idle": "2024-09-30T00:47:48.692194Z",
     "shell.execute_reply": "2024-09-30T00:47:48.691396Z",
     "shell.execute_reply.started": "2024-09-30T00:47:48.677858Z"
    }
   },
   "outputs": [],
   "source": [
    "study_name = \"catb\"\n",
    "sampler = TPESampler(multivariate=True, group=True, seed=random_seed)\n",
    "\n",
    "optimize = False\n",
    "if optimize:\n",
    "    study = optuna.create_study(study_name=study_name, sampler=sampler, direction=\"minimize\", load_if_exists=True)\n",
    "    study.optimize(objective, timeout=1800)\n",
    "    \n",
    "    print(f\"best optimized rmse: {study.best_value:0.5f}\") \n",
    "    print(f\"best hyperparameters: {study.best_params}\") \n",
    "    catb_params = study.best_params\n",
    "else:\n",
    "    catb_params = {\n",
    "        'learning_rate': 0.05,\n",
    "        'iterations': 2000,\n",
    "        'depth': 11, \n",
    "        'l2_leaf_reg': 71.80374727086952, \n",
    "        'random_strength': 6.027633760716439, \n",
    "        'border_count': 282, \n",
    "        'bagging_temperature': 0.4236547993389047,\n",
    "        'random_state': random_seed,\n",
    "        'grow_policy': 'SymmetricTree',\n",
    "        'loss_function': 'RMSE',\n",
    "        'eval_metric': 'RMSE',\n",
    "        'task_type': 'GPU',\n",
    "        'logging_level': 'Silent',\n",
    "    }"
   ]
  },
  {
   "cell_type": "markdown",
   "metadata": {},
   "source": [
    "# 5. Cross Validation and Prediction Analysis."
   ]
  },
  {
   "cell_type": "markdown",
   "metadata": {},
   "source": [
    "Apply three hyperparameter-tuned models on the original dataset to get both the cv scores and predictions."
   ]
  },
  {
   "cell_type": "code",
   "execution_count": null,
   "metadata": {
    "execution": {
     "iopub.execute_input": "2024-09-30T00:47:48.693471Z",
     "iopub.status.busy": "2024-09-30T00:47:48.693165Z",
     "iopub.status.idle": "2024-09-30T00:47:48.706333Z",
     "shell.execute_reply": "2024-09-30T00:47:48.705515Z",
     "shell.execute_reply.started": "2024-09-30T00:47:48.693427Z"
    }
   },
   "outputs": [],
   "source": [
    "def validation(model):\n",
    "    cv = KFold(n_fold, shuffle=True, random_state=random_seed)\n",
    "    cv_splits = cv.split(X_original, y_original)\n",
    "    \n",
    "    val_preds = np.zeros(len(X_original))\n",
    "    \n",
    "    for train_idx, val_idx in cv_splits:\n",
    "        X_train_fold = X_original.iloc[train_idx]\n",
    "        y_train_fold = y_original.iloc[train_idx]\n",
    "        X_val_fold, y_val_fold = X_original.iloc[val_idx], y_original.iloc[val_idx]\n",
    "        \n",
    "        X_train_fold = scaler.transform(X_train_fold)\n",
    "        X_val_fold = scaler.transform(X_val_fold)\n",
    "        \n",
    "        model_cloned = clone(model)\n",
    "        \n",
    "        if isinstance(model_cloned, XGBRegressor):\n",
    "            model_cloned.fit(X_train_fold, y_train_fold, eval_set=[(X_val_fold, y_val_fold)], early_stopping_rounds=100, verbose=False)\n",
    "        elif isinstance(model_cloned, LGBMRegressor):\n",
    "            model_cloned.fit(X_train_fold, y_train_fold, eval_set=[(X_val_fold, y_val_fold)], eval_metric='l2', callbacks=[lgb.early_stopping(stopping_rounds=100)])\n",
    "        elif isinstance(model_cloned, CatBoostRegressor):\n",
    "            model_cloned.fit(X_train_fold, y_train_fold, eval_set=[(X_val_fold, y_val_fold)], early_stopping_rounds=100, verbose=False)\n",
    "        \n",
    "        val_preds[val_idx] = model_cloned.predict(X_val_fold)\n",
    "        \n",
    "        rmse_full = mean_squared_error(y_original, val_preds, squared=False)\n",
    "        \n",
    "    return rmse_full, val_preds"
   ]
  },
  {
   "cell_type": "code",
   "execution_count": null,
   "metadata": {
    "execution": {
     "iopub.execute_input": "2024-09-30T00:47:48.708021Z",
     "iopub.status.busy": "2024-09-30T00:47:48.707474Z",
     "iopub.status.idle": "2024-09-30T00:55:23.865182Z",
     "shell.execute_reply": "2024-09-30T00:55:23.864131Z",
     "shell.execute_reply.started": "2024-09-30T00:47:48.707988Z"
    }
   },
   "outputs": [],
   "source": [
    "rmse_full_xgb, val_preds_xgb = validation(XGBRegressor(**xgb_params))\n",
    "\n",
    "rmse_full_lgbm, val_preds_lgbm = validation(LGBMRegressor(**lgbm_params))\n",
    "\n",
    "rmse_full_catb, val_preds_catb = validation(CatBoostRegressor(**catb_params))"
   ]
  },
  {
   "cell_type": "code",
   "execution_count": null,
   "metadata": {
    "execution": {
     "iopub.execute_input": "2024-09-30T00:55:23.866995Z",
     "iopub.status.busy": "2024-09-30T00:55:23.866657Z",
     "iopub.status.idle": "2024-09-30T00:55:24.764275Z",
     "shell.execute_reply": "2024-09-30T00:55:24.763370Z",
     "shell.execute_reply.started": "2024-09-30T00:55:23.866957Z"
    }
   },
   "outputs": [],
   "source": [
    "fig, axes = plt.subplots(1, 4)\n",
    "sns.boxplot(data=y_original,ax=axes[0]).set_title('y-original')\n",
    "sns.boxplot(data=val_preds_xgb,ax=axes[1]).set_title('val_preds_xgb')\n",
    "sns.boxplot(data=val_preds_lgbm,ax=axes[2]).set_title('val_preds_lgbm')\n",
    "sns.boxplot(data=val_preds_catb,ax=axes[3]).set_title('val_preds_catb')\n",
    "fig.tight_layout()\n",
    "plt.show()"
   ]
  },
  {
   "cell_type": "markdown",
   "metadata": {},
   "source": [
    "All three models underpredict vehicle prices for most training samples."
   ]
  },
  {
   "cell_type": "code",
   "execution_count": null,
   "metadata": {
    "execution": {
     "iopub.execute_input": "2024-09-30T00:55:24.765936Z",
     "iopub.status.busy": "2024-09-30T00:55:24.765618Z",
     "iopub.status.idle": "2024-09-30T00:55:25.076331Z",
     "shell.execute_reply": "2024-09-30T00:55:25.075394Z",
     "shell.execute_reply.started": "2024-09-30T00:55:24.765902Z"
    }
   },
   "outputs": [],
   "source": [
    "plt.scatter(y_original, val_preds_xgb, alpha=0.5)\n",
    "plt.title('Actual vs Predicted Values')\n",
    "plt.xlabel('Actual Values')\n",
    "plt.ylabel('Predicted Values')"
   ]
  },
  {
   "cell_type": "code",
   "execution_count": null,
   "metadata": {
    "execution": {
     "iopub.execute_input": "2024-09-30T00:55:25.079740Z",
     "iopub.status.busy": "2024-09-30T00:55:25.077712Z",
     "iopub.status.idle": "2024-09-30T00:55:25.337284Z",
     "shell.execute_reply": "2024-09-30T00:55:25.336362Z",
     "shell.execute_reply.started": "2024-09-30T00:55:25.079702Z"
    }
   },
   "outputs": [],
   "source": [
    "plt.scatter(y_original, val_preds_lgbm, alpha=0.5)\n",
    "plt.title('Actual vs Predicted Values')\n",
    "plt.xlabel('Actual Values')\n",
    "plt.ylabel('Predicted Values')"
   ]
  },
  {
   "cell_type": "code",
   "execution_count": null,
   "metadata": {
    "execution": {
     "iopub.execute_input": "2024-09-30T00:55:25.339034Z",
     "iopub.status.busy": "2024-09-30T00:55:25.338730Z",
     "iopub.status.idle": "2024-09-30T00:55:25.664208Z",
     "shell.execute_reply": "2024-09-30T00:55:25.663296Z",
     "shell.execute_reply.started": "2024-09-30T00:55:25.339000Z"
    }
   },
   "outputs": [],
   "source": [
    "plt.scatter(y_original, val_preds_catb, alpha=0.5)\n",
    "plt.title('Actual vs Predicted Values')\n",
    "plt.xlabel('Actual Values')\n",
    "plt.ylabel('Predicted Values')"
   ]
  },
  {
   "cell_type": "markdown",
   "metadata": {},
   "source": [
    "# 6. Optuna Weights and Final Prediction."
   ]
  },
  {
   "cell_type": "markdown",
   "metadata": {},
   "source": [
    "Optuna is used to find the optimal weights for an ensemble of three models. The weights that minimize full train dataset's rmse score are needed."
   ]
  },
  {
   "cell_type": "code",
   "execution_count": null,
   "metadata": {
    "execution": {
     "iopub.execute_input": "2024-09-30T00:55:25.666305Z",
     "iopub.status.busy": "2024-09-30T00:55:25.665613Z",
     "iopub.status.idle": "2024-09-30T00:55:25.676244Z",
     "shell.execute_reply": "2024-09-30T00:55:25.675352Z",
     "shell.execute_reply.started": "2024-09-30T00:55:25.666259Z"
    }
   },
   "outputs": [],
   "source": [
    "class OptunaWeights:\n",
    "    def __init__(self, random_state, n_trials=5000):\n",
    "        self.study = None\n",
    "        self.weights = None\n",
    "        self.random_state = random_state\n",
    "        self.n_trials = n_trials\n",
    "\n",
    "    def _objective(self, trial, y_true, y_preds):\n",
    "        # Define the weights for the predictions from each model\n",
    "        weights = [trial.suggest_float(f\"weight{n}\", 0, 1) for n in range(len(y_preds) - 1)]\n",
    "        weights.append(1 - sum(weights))  # Ensure the sum of weights is 1\n",
    "\n",
    "        # Calculate the weighted prediction\n",
    "        weighted_pred = np.average(np.array(y_preds), axis=0, weights=weights)\n",
    "\n",
    "        rmse_full = mean_squared_error(y_true, weighted_pred, squared=False)\n",
    "        return rmse_full  \n",
    "\n",
    "    def fit(self, y_true, y_preds):\n",
    "        optuna.logging.set_verbosity(optuna.logging.ERROR)\n",
    "        sampler = CmaEsSampler(seed=self.random_state)\n",
    "        pruner = HyperbandPruner()\n",
    "        self.study = optuna.create_study(sampler=sampler, pruner=pruner, study_name=\"OptunaWeights\",\n",
    "                                         direction='minimize')\n",
    "        objective_partial = partial(self._objective, y_true=y_true, y_preds=y_preds)\n",
    "        self.study.optimize(objective_partial, n_trials=self.n_trials, show_progress_bar=True)\n",
    "        weights = [self.study.best_params[f\"weight{n}\"] for n in range(len(y_preds) - 1)]\n",
    "        weights.append(1 - sum(weights))  # Ensure the sum of weights is 1\n",
    "        self.weights = weights"
   ]
  },
  {
   "cell_type": "code",
   "execution_count": null,
   "metadata": {
    "execution": {
     "iopub.execute_input": "2024-09-30T00:55:25.677684Z",
     "iopub.status.busy": "2024-09-30T00:55:25.677377Z",
     "iopub.status.idle": "2024-09-30T00:56:09.402362Z",
     "shell.execute_reply": "2024-09-30T00:56:09.401348Z",
     "shell.execute_reply.started": "2024-09-30T00:55:25.677645Z"
    }
   },
   "outputs": [],
   "source": [
    "ow = OptunaWeights(random_seed)\n",
    "ow.fit(y_original, y_preds=[val_preds_xgb, val_preds_lgbm, val_preds_catb])\n",
    "weights = ow.weights\n",
    "print(weights)"
   ]
  },
  {
   "cell_type": "markdown",
   "metadata": {},
   "source": [
    "Final prediction:"
   ]
  },
  {
   "cell_type": "code",
   "execution_count": null,
   "metadata": {
    "execution": {
     "iopub.execute_input": "2024-09-30T00:56:09.404020Z",
     "iopub.status.busy": "2024-09-30T00:56:09.403686Z",
     "iopub.status.idle": "2024-09-30T00:56:09.411052Z",
     "shell.execute_reply": "2024-09-30T00:56:09.410159Z",
     "shell.execute_reply.started": "2024-09-30T00:56:09.403985Z"
    }
   },
   "outputs": [],
   "source": [
    "weights[0] * val_preds_xgb + weights[1] * val_preds_lgbm + weights[2] * val_preds_catb"
   ]
  }
 ],
 "metadata": {
  "kaggle": {
   "accelerator": "none",
   "dataSources": [
    {
     "datasetId": 3742543,
     "sourceId": 6478229,
     "sourceType": "datasetVersion"
    }
   ],
   "isGpuEnabled": false,
   "isInternetEnabled": true,
   "language": "python",
   "sourceType": "notebook"
  },
  "kernelspec": {
   "display_name": "Python 3 (ipykernel)",
   "language": "python",
   "name": "python3"
  },
  "language_info": {
   "codemirror_mode": {
    "name": "ipython",
    "version": 3
   },
   "file_extension": ".py",
   "mimetype": "text/x-python",
   "name": "python",
   "nbconvert_exporter": "python",
   "pygments_lexer": "ipython3",
   "version": "3.10.9"
  }
 },
 "nbformat": 4,
 "nbformat_minor": 4
}
